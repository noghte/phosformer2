{
 "cells": [
  {
   "cell_type": "code",
   "execution_count": 1,
   "id": "7bac0355-8f20-43d4-8d6f-8ea1da9d3400",
   "metadata": {
    "tags": []
   },
   "outputs": [],
   "source": [
    "import os\n",
    "import sys\n",
    "import hashlib\n",
    "import warnings\n",
    "sys.dont_write_bytecode=True\n",
    "\n",
    "import numpy as np\n",
    "import pandas as pd\n",
    "import matplotlib.pyplot as plt\n",
    "\n",
    "import torch\n",
    "\n",
    "from tokenization_esm import EsmTokenizer\n",
    "from modeling_esm import EsmForSequenceClassificationMHACustom\n"
   ]
  },
  {
   "cell_type": "markdown",
   "id": "85bb09b5-ad6f-4506-a463-7dd30563f6c5",
   "metadata": {},
   "source": [
    "## load data"
   ]
  },
  {
   "cell_type": "code",
   "execution_count": 2,
   "id": "4cb4d50a-5e73-4600-bfc6-012a279f042e",
   "metadata": {
    "tags": []
   },
   "outputs": [],
   "source": [
    "kinases = 'YRIRGEIGSGNFSQVKLGIHSLTKEKVAIKILDKTKLDQKTQRLLSREISSMEKLHHPNIIRLYEVVETLSKLHLVMEYAGGGELFGKISTEGKLSEPESKLIFSQIVSAVKHMHENQIIHRDLKAENVFYTSNTCVKVGDFGFSTVSKKGEMLNTFCGSPPYAAPELFRDEHYIGIYVDIWALGVLLYFMVTGTMPFRAETVAKLKKSILEGTYSVPPHVSEPCHRLIRGVLQQIPTERYGIDCIMNDEWM'\n",
    "peptides = 'SSLRRHGSMVSLVSG'\n"
   ]
  },
  {
   "cell_type": "markdown",
   "id": "93d17f81-76d3-491b-8595-0fc69a62f17a",
   "metadata": {},
   "source": [
    "## load model"
   ]
  },
  {
   "cell_type": "code",
   "execution_count": 3,
   "id": "d83ae899-66cc-4eda-8c09-d9ecdefc86bd",
   "metadata": {
    "tags": []
   },
   "outputs": [],
   "source": [
    "model_dir = 'final_model_saber/'\n",
    "\n",
    "tokenizer = EsmTokenizer.from_pretrained(model_dir)\n",
    "model     = EsmForSequenceClassificationMHACustom.from_pretrained(model_dir, num_labels=2)\n"
   ]
  },
  {
   "cell_type": "markdown",
   "id": "c9305379-8480-4010-ab14-fc86b53681fb",
   "metadata": {},
   "source": [
    "## run model"
   ]
  },
  {
   "cell_type": "code",
   "execution_count": 15,
   "id": "e6e49e84-3f4b-413a-bc49-ca66475bcf9b",
   "metadata": {
    "tags": []
   },
   "outputs": [],
   "source": [
    "def run_model(peptides, kinases, model=model, tokenizer=tokenizer, device='cuda:1', batch_size=50, output_hidden_states=True, output_attentions=True):\n",
    "    torch.cuda.empty_cache()\n",
    "    \n",
    "    model.eval()\n",
    "    model = model.to(device)\n",
    "\n",
    "    ids = tokenizer(peptides, kinases, padding=True, return_tensors='pt')\n",
    "    ids = ids.to(device)\n",
    "    output = dict()\n",
    "    with torch.no_grad():\n",
    "        results, classifier_attn_outputs, classifier_attn_output_weights = model(ids['input_ids'], \n",
    "                        attention_mask=ids['attention_mask'], \n",
    "                        output_hidden_states=output_hidden_states, \n",
    "                        output_attentions=output_attentions)\n",
    "\n",
    "        attention_mask = ids['attention_mask'].cpu().type(torch.bool)\n",
    "\n",
    "        output['probability'] = results['logits'].softmax(1)[:,1].cpu().numpy()\n",
    "\n",
    "        if output_hidden_states:\n",
    "            last_embeddings = results['hidden_states'][-1].cpu().numpy()\n",
    "            output['embedding'] = [i[m] for i, m in zip(last_embeddings, attention_mask)]\n",
    "\n",
    "        if output_attentions:\n",
    "            last_attentions = results['attentions'][-1].cpu().numpy()\n",
    "            output['attention'] = [i[:,m,:][:,:,m] for i, m in zip(last_attentions, attention_mask)]\n",
    "\n",
    "        classifier_attn_outputs = classifier_attn_outputs.cpu()\n",
    "        output['classifier_attn_outputs'] = classifier_attn_outputs\n",
    "\n",
    "        classifier_attn_output_weights = classifier_attn_output_weights.cpu()\n",
    "        output['classifier_attn_output_weights'] = [i[:,m[16:]] for i, m in zip(classifier_attn_output_weights, attention_mask)]\n",
    "\n",
    "    return output"
   ]
  },
  {
   "cell_type": "code",
   "execution_count": 18,
   "id": "644bc993-249e-4961-ba12-948bde6664a0",
   "metadata": {
    "tags": []
   },
   "outputs": [
    {
     "data": {
      "text/plain": [
       "array([0.9804121], dtype=float32)"
      ]
     },
     "execution_count": 18,
     "metadata": {},
     "output_type": "execute_result"
    }
   ],
   "source": [
    "output = run_model(peptides, kinases, \n",
    "    model=model, \n",
    "    tokenizer=tokenizer, \n",
    "    output_hidden_states=False,\n",
    "    output_attentions=False,\n",
    "    # batch_size=32, \n",
    "    batch_size=1, \n",
    "    )\n",
    "\n",
    "# prediction score\n",
    "output[\"probability\"]"
   ]
  }
 ],
 "metadata": {
  "kernelspec": {
   "display_name": "Python 3 (ipykernel)",
   "language": "python",
   "name": "python3"
  },
  "language_info": {
   "codemirror_mode": {
    "name": "ipython",
    "version": 3
   },
   "file_extension": ".py",
   "mimetype": "text/x-python",
   "name": "python",
   "nbconvert_exporter": "python",
   "pygments_lexer": "ipython3",
   "version": "3.8.0"
  }
 },
 "nbformat": 4,
 "nbformat_minor": 5
}
